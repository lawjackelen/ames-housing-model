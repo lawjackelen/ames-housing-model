{
 "cells": [
  {
   "cell_type": "code",
   "execution_count": 1,
   "id": "c2af72f4",
   "metadata": {},
   "outputs": [],
   "source": [
    "import pandas as pd\n",
    "import numpy as np\n",
    "\n",
    "from sklearn.linear_model import LinearRegression\n",
    "from sklearn.preprocessing import StandardScaler\n",
    "from sklearn.model_selection import cross_val_score\n",
    "\n",
    "from statistics import mean, stdev"
   ]
  },
  {
   "cell_type": "code",
   "execution_count": 2,
   "id": "5b4e7484",
   "metadata": {},
   "outputs": [],
   "source": [
    "train = pd.read_csv('datasets/train_cleaned.csv').set_index('pid')"
   ]
  },
  {
   "cell_type": "code",
   "execution_count": 3,
   "id": "35707136",
   "metadata": {},
   "outputs": [],
   "source": [
    "target = 'saleprice'\n",
    "cols = [col for col in train.columns if col != target]\n",
    "\n",
    "ss = StandardScaler()\n",
    "ss.fit(train)\n",
    "\n",
    "train_ss = pd.DataFrame(ss.transform(train), columns = train.columns)"
   ]
  },
  {
   "cell_type": "code",
   "execution_count": 4,
   "id": "515e1bac",
   "metadata": {},
   "outputs": [
    {
     "data": {
      "text/plain": [
       "LinearRegression(n_jobs=-1)"
      ]
     },
     "execution_count": 4,
     "metadata": {},
     "output_type": "execute_result"
    }
   ],
   "source": [
    "y = train[target]\n",
    "X = train_ss[cols]\n",
    "\n",
    "lr = LinearRegression(n_jobs = -1)\n",
    "lr.fit(X,y)"
   ]
  },
  {
   "cell_type": "code",
   "execution_count": 5,
   "id": "95d5763a",
   "metadata": {},
   "outputs": [
    {
     "data": {
      "text/plain": [
       "array([185051.42082605, 222281.20666939, 137242.3113485 , ...,\n",
       "       177611.24743304, 115652.90308129, 192394.14645635])"
      ]
     },
     "execution_count": 5,
     "metadata": {},
     "output_type": "execute_result"
    }
   ],
   "source": [
    "lr.predict(X)"
   ]
  },
  {
   "cell_type": "code",
   "execution_count": 6,
   "id": "05f9fbd7",
   "metadata": {},
   "outputs": [
    {
     "data": {
      "text/plain": [
       "0.9162064109051988"
      ]
     },
     "execution_count": 6,
     "metadata": {},
     "output_type": "execute_result"
    }
   ],
   "source": [
    "lr.score(X,y)"
   ]
  },
  {
   "cell_type": "code",
   "execution_count": 7,
   "id": "9394ff86",
   "metadata": {},
   "outputs": [
    {
     "data": {
      "text/plain": [
       "'0.91 ± 0.02'"
      ]
     },
     "execution_count": 7,
     "metadata": {},
     "output_type": "execute_result"
    }
   ],
   "source": [
    "scores = cross_val_score(lr, X, y, cv = 10,\n",
    "                         n_jobs = -1)\n",
    "\n",
    "f'{round(mean(scores), 2)} \\u00B1 {round(2 * stdev(scores), 2)}'"
   ]
  },
  {
   "cell_type": "code",
   "execution_count": null,
   "id": "cce24ff9",
   "metadata": {},
   "outputs": [],
   "source": []
  },
  {
   "cell_type": "code",
   "execution_count": null,
   "id": "52adb161",
   "metadata": {},
   "outputs": [],
   "source": []
  },
  {
   "cell_type": "code",
   "execution_count": null,
   "id": "1014eee8",
   "metadata": {},
   "outputs": [],
   "source": []
  },
  {
   "cell_type": "code",
   "execution_count": null,
   "id": "8b02c944",
   "metadata": {},
   "outputs": [],
   "source": []
  },
  {
   "cell_type": "code",
   "execution_count": 8,
   "id": "41e457ac",
   "metadata": {},
   "outputs": [],
   "source": [
    "test = pd.read_csv('datasets/test_cleaned.csv').set_index('pid')"
   ]
  },
  {
   "cell_type": "code",
   "execution_count": 12,
   "id": "4471eca0",
   "metadata": {},
   "outputs": [],
   "source": [
    "zero_data = np.zeros(shape=(test.shape[0],1))"
   ]
  },
  {
   "cell_type": "code",
   "execution_count": 13,
   "id": "85bc48cb",
   "metadata": {},
   "outputs": [],
   "source": [
    "# https://stackoverflow.com/questions/22963263/creating-a-zero-filled-pandas-data-frame\n",
    "d = pd.DataFrame(zero_data, columns=['saleprice'], index = test.index)"
   ]
  },
  {
   "cell_type": "code",
   "execution_count": 14,
   "id": "3cd0620b",
   "metadata": {},
   "outputs": [],
   "source": [
    "test = test.iloc[:,:39].join(d).join(test.iloc[:,39:])"
   ]
  },
  {
   "cell_type": "code",
   "execution_count": 15,
   "id": "c091cc72",
   "metadata": {},
   "outputs": [],
   "source": [
    "test_ss = pd.DataFrame(ss.transform(test), columns=test.columns)"
   ]
  },
  {
   "cell_type": "code",
   "execution_count": 16,
   "id": "ad69ff73",
   "metadata": {},
   "outputs": [],
   "source": [
    "X_test = test_ss[cols]"
   ]
  },
  {
   "cell_type": "code",
   "execution_count": 21,
   "id": "f8118dc3",
   "metadata": {},
   "outputs": [],
   "source": [
    "predictions = lr.predict(X_test)"
   ]
  },
  {
   "cell_type": "code",
   "execution_count": 22,
   "id": "b97d05f2",
   "metadata": {},
   "outputs": [],
   "source": [
    "predictions = pd.Series(predictions, name='SalePrice')"
   ]
  },
  {
   "cell_type": "code",
   "execution_count": 24,
   "id": "44d97ece",
   "metadata": {},
   "outputs": [],
   "source": [
    "submission = pd.DataFrame()\n",
    "submission['Id'] = test.index\n",
    "submission['SalePrice'] = predictions"
   ]
  },
  {
   "cell_type": "code",
   "execution_count": 25,
   "id": "dfa842db",
   "metadata": {},
   "outputs": [
    {
     "data": {
      "text/html": [
       "<div>\n",
       "<style scoped>\n",
       "    .dataframe tbody tr th:only-of-type {\n",
       "        vertical-align: middle;\n",
       "    }\n",
       "\n",
       "    .dataframe tbody tr th {\n",
       "        vertical-align: top;\n",
       "    }\n",
       "\n",
       "    .dataframe thead th {\n",
       "        text-align: right;\n",
       "    }\n",
       "</style>\n",
       "<table border=\"1\" class=\"dataframe\">\n",
       "  <thead>\n",
       "    <tr style=\"text-align: right;\">\n",
       "      <th></th>\n",
       "      <th>Id</th>\n",
       "      <th>SalePrice</th>\n",
       "    </tr>\n",
       "  </thead>\n",
       "  <tbody>\n",
       "    <tr>\n",
       "      <th>0</th>\n",
       "      <td>902301120</td>\n",
       "      <td>153149.578553</td>\n",
       "    </tr>\n",
       "    <tr>\n",
       "      <th>1</th>\n",
       "      <td>905108090</td>\n",
       "      <td>156676.047784</td>\n",
       "    </tr>\n",
       "    <tr>\n",
       "      <th>2</th>\n",
       "      <td>528218130</td>\n",
       "      <td>230503.260924</td>\n",
       "    </tr>\n",
       "    <tr>\n",
       "      <th>3</th>\n",
       "      <td>902207150</td>\n",
       "      <td>103131.425250</td>\n",
       "    </tr>\n",
       "    <tr>\n",
       "      <th>4</th>\n",
       "      <td>535105100</td>\n",
       "      <td>161848.438302</td>\n",
       "    </tr>\n",
       "    <tr>\n",
       "      <th>...</th>\n",
       "      <td>...</td>\n",
       "      <td>...</td>\n",
       "    </tr>\n",
       "    <tr>\n",
       "      <th>873</th>\n",
       "      <td>527377110</td>\n",
       "      <td>187838.117889</td>\n",
       "    </tr>\n",
       "    <tr>\n",
       "      <th>874</th>\n",
       "      <td>535126140</td>\n",
       "      <td>218420.016384</td>\n",
       "    </tr>\n",
       "    <tr>\n",
       "      <th>875</th>\n",
       "      <td>904100040</td>\n",
       "      <td>122154.580823</td>\n",
       "    </tr>\n",
       "    <tr>\n",
       "      <th>876</th>\n",
       "      <td>527425140</td>\n",
       "      <td>113915.878322</td>\n",
       "    </tr>\n",
       "    <tr>\n",
       "      <th>877</th>\n",
       "      <td>535327160</td>\n",
       "      <td>101356.532462</td>\n",
       "    </tr>\n",
       "  </tbody>\n",
       "</table>\n",
       "<p>878 rows × 2 columns</p>\n",
       "</div>"
      ],
      "text/plain": [
       "            Id      SalePrice\n",
       "0    902301120  153149.578553\n",
       "1    905108090  156676.047784\n",
       "2    528218130  230503.260924\n",
       "3    902207150  103131.425250\n",
       "4    535105100  161848.438302\n",
       "..         ...            ...\n",
       "873  527377110  187838.117889\n",
       "874  535126140  218420.016384\n",
       "875  904100040  122154.580823\n",
       "876  527425140  113915.878322\n",
       "877  535327160  101356.532462\n",
       "\n",
       "[878 rows x 2 columns]"
      ]
     },
     "execution_count": 25,
     "metadata": {},
     "output_type": "execute_result"
    }
   ],
   "source": [
    "submission"
   ]
  },
  {
   "cell_type": "code",
   "execution_count": 26,
   "id": "189ea72c",
   "metadata": {},
   "outputs": [],
   "source": [
    "submission.to_csv('datasets/05_22_submission.csv', index = False)"
   ]
  },
  {
   "cell_type": "code",
   "execution_count": 28,
   "id": "29607136",
   "metadata": {},
   "outputs": [
    {
     "data": {
      "text/html": [
       "<div>\n",
       "<style scoped>\n",
       "    .dataframe tbody tr th:only-of-type {\n",
       "        vertical-align: middle;\n",
       "    }\n",
       "\n",
       "    .dataframe tbody tr th {\n",
       "        vertical-align: top;\n",
       "    }\n",
       "\n",
       "    .dataframe thead th {\n",
       "        text-align: right;\n",
       "    }\n",
       "</style>\n",
       "<table border=\"1\" class=\"dataframe\">\n",
       "  <thead>\n",
       "    <tr style=\"text-align: right;\">\n",
       "      <th></th>\n",
       "      <th>Id</th>\n",
       "      <th>SalePrice</th>\n",
       "    </tr>\n",
       "  </thead>\n",
       "  <tbody>\n",
       "    <tr>\n",
       "      <th>0</th>\n",
       "      <td>902301120</td>\n",
       "      <td>153149.578553</td>\n",
       "    </tr>\n",
       "    <tr>\n",
       "      <th>1</th>\n",
       "      <td>905108090</td>\n",
       "      <td>156676.047784</td>\n",
       "    </tr>\n",
       "    <tr>\n",
       "      <th>2</th>\n",
       "      <td>528218130</td>\n",
       "      <td>230503.260924</td>\n",
       "    </tr>\n",
       "    <tr>\n",
       "      <th>3</th>\n",
       "      <td>902207150</td>\n",
       "      <td>103131.425250</td>\n",
       "    </tr>\n",
       "    <tr>\n",
       "      <th>4</th>\n",
       "      <td>535105100</td>\n",
       "      <td>161848.438302</td>\n",
       "    </tr>\n",
       "  </tbody>\n",
       "</table>\n",
       "</div>"
      ],
      "text/plain": [
       "          Id      SalePrice\n",
       "0  902301120  153149.578553\n",
       "1  905108090  156676.047784\n",
       "2  528218130  230503.260924\n",
       "3  902207150  103131.425250\n",
       "4  535105100  161848.438302"
      ]
     },
     "execution_count": 28,
     "metadata": {},
     "output_type": "execute_result"
    }
   ],
   "source": [
    "sub_test = pd.read_csv('datasets/05_22_submission.csv')\n",
    "sub_test.head()"
   ]
  },
  {
   "cell_type": "code",
   "execution_count": null,
   "id": "69a43ea3",
   "metadata": {},
   "outputs": [],
   "source": []
  }
 ],
 "metadata": {
  "kernelspec": {
   "display_name": "Python 3 (ipykernel)",
   "language": "python",
   "name": "python3"
  },
  "language_info": {
   "codemirror_mode": {
    "name": "ipython",
    "version": 3
   },
   "file_extension": ".py",
   "mimetype": "text/x-python",
   "name": "python",
   "nbconvert_exporter": "python",
   "pygments_lexer": "ipython3",
   "version": "3.9.7"
  }
 },
 "nbformat": 4,
 "nbformat_minor": 5
}
