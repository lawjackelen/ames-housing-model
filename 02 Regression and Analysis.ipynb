{
 "cells": [
  {
   "cell_type": "markdown",
   "id": "62e7f230",
   "metadata": {},
   "source": [
    "## Problem Statement"
   ]
  },
  {
   "cell_type": "markdown",
   "id": "75495f0f",
   "metadata": {},
   "source": [
    "Our firm wants to diversify our portfolio by getting into the real estate business in Ames, Iowa. Like any instrument, we want to know if our return will make the investment worthwhile.\n",
    "\n",
    "Using available data, build a linear regression model for estimating the sale price of a home, call out which types of attributes are good indicators of value and which detract?\n",
    "\n",
    "The approach will use Linear Regression, Lasso Regression, and Ridge Regression models as well as Lasso Cross Validation and Ridge Cross Validation for feature selection. Success will be evaluated using $R^2$ and RMSE confidence intervals across 10 folds."
   ]
  },
  {
   "cell_type": "markdown",
   "id": "14875ea3",
   "metadata": {},
   "source": [
    "## Data"
   ]
  },
  {
   "cell_type": "markdown",
   "id": "6762f91f",
   "metadata": {},
   "source": [
    "An original dataset of 2,051 individual residential house sale records from the Ames, Iowa Assessor's office was cleaned and updated in the EDA and Cleaning notebook. Outlier removal left 2,039 records remaining and feature selection, null handling, and dummy variables change the original 78 exploratory variables to 84.\n",
    "\n",
    "The baseline value is the mean of our target variable `sale price`, a value of \\$181,217. The metrics associated with this baseline that our model will try to improve on are:\n",
    "  *  $R^2$ 0.000\n",
    "  *  RMSE: 79300\n",
    "\n",
    "This is calculated below in the [Baseline Stats Section](#baseline)"
   ]
  },
  {
   "cell_type": "markdown",
   "id": "db25ba0a",
   "metadata": {},
   "source": [
    "#### Imports"
   ]
  },
  {
   "cell_type": "code",
   "execution_count": 1,
   "id": "c2af72f4",
   "metadata": {},
   "outputs": [],
   "source": [
    "import pandas as pd\n",
    "import numpy as np\n",
    "\n",
    "import matplotlib.pyplot as plt\n",
    "import seaborn as sns\n",
    "\n",
    "from sklearn.linear_model import LinearRegression, Lasso, LassoCV, Ridge, RidgeCV\n",
    "from sklearn.preprocessing import StandardScaler\n",
    "from sklearn.model_selection import cross_val_score, train_test_split\n",
    "from sklearn.compose import TransformedTargetRegressor\n",
    "from sklearn import metrics\n",
    "\n",
    "from statistics import mean, stdev"
   ]
  },
  {
   "cell_type": "markdown",
   "id": "11293faf",
   "metadata": {},
   "source": [
    "#### Helper Functions"
   ]
  },
  {
   "cell_type": "code",
   "execution_count": 2,
   "id": "02f3cd87",
   "metadata": {},
   "outputs": [],
   "source": [
    "def r2_adj(model, X, y):\n",
    "    '''Returns R2_adjusted for a model\n",
    "       model = instance of model\n",
    "       X = design matrix\n",
    "       y = target variable'''\n",
    "    \n",
    "    \n",
    "    r2 = model.score(X,y)\n",
    "    n = y.size\n",
    "    k = X.shape[1]\n",
    "    \n",
    "    out = 1- ((1-r2)*(n-1)/(n-k-1))\n",
    "    \n",
    "    return out\n",
    "\n",
    "def metrics_everywhere(model, X, y):\n",
    "    predictions = model.predict(X)\n",
    "\n",
    "    # r2\n",
    "    my_r2 = metrics.r2_score(y, predictions)\n",
    "\n",
    "    # r2_adj\n",
    "    my_r2_adj = r2_adj(model, X, y)\n",
    "\n",
    "    # max_error\n",
    "    my_max_error = metrics.max_error(y, predictions)\n",
    "\n",
    "    # SSE\n",
    "    my_sse = y.size*metrics.mean_squared_error(y, predictions,\n",
    "                               squared = True)\n",
    "\n",
    "    # MSE\n",
    "    my_mse = metrics.mean_squared_error(y, predictions,\n",
    "                               squared = True)\n",
    "\n",
    "    # RMSE\n",
    "    my_rmse = metrics.mean_squared_error(y, predictions,\n",
    "                               squared = False)\n",
    "\n",
    "    print( \"Model Stats\\n\\nr2: {:.4f}\\nr2_adj: {:.4f}\\nmax_error: {:.0f}\\nSSE: {:.0f}\\nMSE: {:.0f}\\nRMSE: {:.0f}\"\\\n",
    "          .format(my_r2,my_r2_adj,my_max_error,my_sse,my_mse,my_rmse))\n",
    "\n",
    "    return"
   ]
  },
  {
   "cell_type": "code",
   "execution_count": 3,
   "id": "777c1bc5",
   "metadata": {},
   "outputs": [],
   "source": [
    "def add_identity(axes, *line_args, **line_kwargs):\n",
    "    identity, = axes.plot([], [], *line_args, **line_kwargs, label = 'Actual = Predicted')\n",
    "    def callback(axes):\n",
    "        low_x, high_x = axes.get_xlim()\n",
    "        low_y, high_y = axes.get_ylim()\n",
    "        low = max(low_x, low_y)\n",
    "        high = min(high_x, high_y)\n",
    "        identity.set_data([low, high], [low, high])\n",
    "    callback(axes)\n",
    "    axes.callbacks.connect('xlim_changed', callback)\n",
    "    axes.callbacks.connect('ylim_changed', callback)\n",
    "    return axes\n",
    "\n",
    "# source:\n",
    "# https://stackoverflow.com/questions/22104256/does-matplotlib-have-a-function-for-drawing-diagonal-lines-in-axis-coordinates"
   ]
  },
  {
   "cell_type": "code",
   "execution_count": 4,
   "id": "078dad81",
   "metadata": {},
   "outputs": [],
   "source": [
    "def print_results(scores_list):\n",
    "    return f'''\n",
    "    [min, max] = {[round(min(scores_list), 2), round(max(scores_list), 2)]}\n",
    "    \n",
    "    confidence interval: {round(mean(scores_list), 2)} \\u00B1 {round(2 * stdev(scores_list), 2)}\n",
    "    '''"
   ]
  },
  {
   "cell_type": "markdown",
   "id": "8ef0354a",
   "metadata": {},
   "source": [
    "#### Import Data"
   ]
  },
  {
   "cell_type": "code",
   "execution_count": 5,
   "id": "5b4e7484",
   "metadata": {},
   "outputs": [],
   "source": [
    "train = pd.read_csv('datasets/train_cleaned.csv').set_index('pid')"
   ]
  },
  {
   "cell_type": "code",
   "execution_count": 6,
   "id": "35707136",
   "metadata": {},
   "outputs": [],
   "source": [
    "target = 'saleprice'\n",
    "cols = [col for col in train.columns if col != target]\n",
    "\n",
    "y = train[target]\n",
    "\n",
    "X = train[cols]"
   ]
  },
  {
   "cell_type": "markdown",
   "id": "41982c41",
   "metadata": {},
   "source": [
    "<a id='baseline'></a>\n",
    "#### Baseline stats"
   ]
  },
  {
   "cell_type": "code",
   "execution_count": 7,
   "id": "341ed7de",
   "metadata": {},
   "outputs": [],
   "source": [
    "X['baseline'] = y.describe()['mean']"
   ]
  },
  {
   "cell_type": "code",
   "execution_count": 8,
   "id": "46cf148b",
   "metadata": {
    "scrolled": true
   },
   "outputs": [
    {
     "name": "stdout",
     "output_type": "stream",
     "text": [
      "Model Stats\n",
      "\n",
      "r2: 0.0000\n",
      "r2_adj: -0.0005\n",
      "max_error: 430440\n",
      "SSE: 12822276879390\n",
      "MSE: 6288512447\n",
      "RMSE: 79300\n"
     ]
    }
   ],
   "source": [
    "lr = LinearRegression()\n",
    "lr.fit(X[['baseline']],y)\n",
    "metrics_everywhere(lr, X[['baseline']],y)"
   ]
  },
  {
   "cell_type": "code",
   "execution_count": 9,
   "id": "01865378",
   "metadata": {},
   "outputs": [],
   "source": [
    "X.drop('baseline', axis = 1, inplace=True)"
   ]
  },
  {
   "cell_type": "markdown",
   "id": "fa7f11c6",
   "metadata": {},
   "source": [
    "## Train_Test_Split"
   ]
  },
  {
   "cell_type": "code",
   "execution_count": 10,
   "id": "48dde9a8",
   "metadata": {},
   "outputs": [
    {
     "name": "stdout",
     "output_type": "stream",
     "text": [
      "(1835, 84) (1835,)\n",
      "(204, 84) (204,)\n"
     ]
    }
   ],
   "source": [
    "X_train, X_test, y_train, y_test = train_test_split(X, y, test_size = 0.10, random_state = 21)\n",
    "print(X_train.shape, y_train.shape)\n",
    "print(X_test.shape, y_test.shape)"
   ]
  },
  {
   "cell_type": "code",
   "execution_count": 11,
   "id": "df52041b",
   "metadata": {},
   "outputs": [
    {
     "data": {
      "text/plain": [
       "LinearRegression(n_jobs=-1)"
      ]
     },
     "execution_count": 11,
     "metadata": {},
     "output_type": "execute_result"
    }
   ],
   "source": [
    "lr = LinearRegression(n_jobs = -1)\n",
    "\n",
    "lr.fit(X_train, y_train)"
   ]
  },
  {
   "cell_type": "code",
   "execution_count": 12,
   "id": "b2330ee5",
   "metadata": {},
   "outputs": [
    {
     "data": {
      "text/plain": [
       "(0.9128415195866887, 0.9147246438212291)"
      ]
     },
     "execution_count": 12,
     "metadata": {},
     "output_type": "execute_result"
    }
   ],
   "source": [
    "lr.score(X_train, y_train),lr.score(X_test, y_test)"
   ]
  },
  {
   "cell_type": "code",
   "execution_count": 13,
   "id": "6dc0656f",
   "metadata": {},
   "outputs": [
    {
     "data": {
      "image/png": "[encoded data removed]",
      "text/plain": [
       "<Figure size 1152x576 with 2 Axes>"
      ]
     },
     "metadata": {
      "needs_background": "light"
     },
     "output_type": "display_data"
    }
   ],
   "source": [
    "figure, ax = plt.subplots(1, 2, figsize = (16,8))\n",
    "\n",
    "lr.fit(X_train, y_train)\n",
    "\n",
    "test_predictions  =  lr.predict(X_test)\n",
    "test_score        =  round(lr.score(X_test, y_test),4)\n",
    "\n",
    "train_predictions = lr.predict(X_train)\n",
    "train_score = round(lr.score(X_train, y_train),4)\n",
    "\n",
    "# Plot the model\n",
    "ax[0].scatter(train_predictions, y_train, alpha = 0.2)\n",
    "ax[0].set_xlabel(\"Predicted Values\")\n",
    "ax[0].set_ylabel(\"Actual Values\")\n",
    "ax[0].set_title('Train Set'+\"     score: \" +str(train_score))\n",
    "\n",
    "\n",
    "\n",
    "# Plot the model\n",
    "ax[1].scatter(test_predictions, y_test)\n",
    "ax[1].set_xlabel(\"Predicted Values\")\n",
    "ax[1].set_ylabel(\"Actual Values\")\n",
    "ax[1].set_title('Test Set'+\"     score: \" +str(test_score));\n",
    "\n",
    "add_identity(ax[0], color = 'r', ls='--')\n",
    "add_identity(ax[1], color = 'r', ls='--');"
   ]
  },
  {
   "cell_type": "markdown",
   "id": "03f30d23",
   "metadata": {},
   "source": [
    "**Interpretation** \n",
    "The intial linear regression model from all of the cleaned variables already does a good job at estimating to new data. It should be possible to get a better score through Lasso CV techniques."
   ]
  },
  {
   "cell_type": "code",
   "execution_count": 14,
   "id": "d09702e9",
   "metadata": {},
   "outputs": [
    {
     "name": "stdout",
     "output_type": "stream",
     "text": [
      "Model Stats\n",
      "\n",
      "r2: 0.9128\n",
      "r2_adj: 0.9087\n",
      "max_error: 184672\n",
      "SSE: 1021589223195\n",
      "MSE: 556724372\n",
      "RMSE: 23595\n"
     ]
    }
   ],
   "source": [
    "metrics_everywhere(lr, X_train, y_train)"
   ]
  },
  {
   "cell_type": "code",
   "execution_count": 15,
   "id": "6b1993ca",
   "metadata": {},
   "outputs": [
    {
     "name": "stdout",
     "output_type": "stream",
     "text": [
      "Model Stats\n",
      "\n",
      "r2: 0.9147\n",
      "r2_adj: 0.8545\n",
      "max_error: 84162\n",
      "SSE: 93119537347\n",
      "MSE: 456468320\n",
      "RMSE: 21365\n"
     ]
    }
   ],
   "source": [
    "metrics_everywhere(lr, X_test, y_test)"
   ]
  },
  {
   "cell_type": "markdown",
   "id": "ed112cba",
   "metadata": {},
   "source": [
    "**Observation** The model adapts well to unseen data in a test train split environment, outperforming the train set on r2 as well as RMSE"
   ]
  },
  {
   "cell_type": "markdown",
   "id": "f7c5d1af",
   "metadata": {},
   "source": [
    "## Cross Validation"
   ]
  },
  {
   "cell_type": "code",
   "execution_count": 16,
   "id": "0304ef29",
   "metadata": {},
   "outputs": [
    {
     "name": "stdout",
     "output_type": "stream",
     "text": [
      "\n",
      "    [min, max] = [0.89, 0.92]\n",
      "    \n",
      "    confidence interval: 0.9 ± 0.02\n",
      "    \n",
      "RMSE: 24473.0\n"
     ]
    }
   ],
   "source": [
    "lr_cv = LinearRegression(n_jobs = -1)\n",
    "\n",
    "scores = cross_val_score(lr_cv, X, y,\n",
    "                         cv = 10,\n",
    "                         n_jobs = -1)\n",
    "\n",
    "RMSE = mean([np.sqrt(-x) for x in cross_val_score(lr_cv, X, y,\n",
    "                                     cv = 10,\n",
    "                                     n_jobs = -1,\n",
    "                                     scoring='neg_mean_squared_error')])\n",
    "\n",
    "\n",
    "print(print_results(scores))\n",
    "print(f'RMSE: {round(RMSE,0)}')"
   ]
  },
  {
   "cell_type": "markdown",
   "id": "bba0df4f",
   "metadata": {},
   "source": [
    "**Observation** Low variance in our model with significant improvement over the baseline RMSE of 79300"
   ]
  },
  {
   "cell_type": "markdown",
   "id": "49857b5e",
   "metadata": {},
   "source": [
    "## Standard Scale for Lasso and Ridge"
   ]
  },
  {
   "cell_type": "code",
   "execution_count": 17,
   "id": "354e0ecc",
   "metadata": {},
   "outputs": [],
   "source": [
    "ss = StandardScaler()\n",
    "ss.fit(X)\n",
    "\n",
    "X_ss = pd.DataFrame(ss.transform(X), columns = X.columns)\n"
   ]
  },
  {
   "cell_type": "markdown",
   "id": "aa12a2a3",
   "metadata": {},
   "source": [
    "## Lasso Regression"
   ]
  },
  {
   "cell_type": "code",
   "execution_count": 18,
   "id": "83dbd7a2",
   "metadata": {},
   "outputs": [
    {
     "name": "stdout",
     "output_type": "stream",
     "text": [
      "\n",
      "    [min, max] = [0.89, 0.92]\n",
      "    \n",
      "    confidence interval: 0.9 ± 0.02\n",
      "    \n",
      "RMSE: 24469.0\n"
     ]
    }
   ],
   "source": [
    "lasso = Lasso()\n",
    "\n",
    "scores_lasso = cross_val_score(lasso, X_ss, y,\n",
    "                               cv = 10,\n",
    "                               n_jobs = -1)\n",
    "\n",
    "RMSE_lasso = mean([np.sqrt(-x) for x in cross_val_score(lasso, X, y,\n",
    "                                     cv = 10,\n",
    "                                     n_jobs = -1,\n",
    "                                     scoring='neg_mean_squared_error')])\n",
    "\n",
    "\n",
    "\n",
    "print(print_results(scores_lasso))\n",
    "\n",
    "print(f'RMSE: {round(RMSE_lasso,0)}')\n"
   ]
  },
  {
   "cell_type": "markdown",
   "id": "0ede5e87",
   "metadata": {},
   "source": [
    "**Observation** Applying Lasso Regression improves RMSE while maintaining the 95% confidence interval."
   ]
  },
  {
   "cell_type": "markdown",
   "id": "cd15ce63",
   "metadata": {},
   "source": [
    "## Ridge Regression"
   ]
  },
  {
   "cell_type": "code",
   "execution_count": 19,
   "id": "c778ad37",
   "metadata": {},
   "outputs": [
    {
     "name": "stdout",
     "output_type": "stream",
     "text": [
      "\n",
      "    [min, max] = [0.89, 0.92]\n",
      "    \n",
      "    confidence interval: 0.9 ± 0.02\n",
      "    \n",
      "RMSE: 24457.0\n"
     ]
    }
   ],
   "source": [
    "ridge = Ridge()\n",
    "\n",
    "scores_ridge = cross_val_score(ridge, X_ss, y,\n",
    "                               cv = 10,\n",
    "                               n_jobs = -1)\n",
    "\n",
    "RMSE_ridge = mean([np.sqrt(-x) for x in cross_val_score(ridge, X, y,\n",
    "                                     cv = 10,\n",
    "                                     n_jobs = -1,\n",
    "                                     scoring='neg_mean_squared_error')])\n",
    "\n",
    "print(print_results(scores_ridge))\n",
    "print(f'RMSE: {round(RMSE_ridge,0)}')"
   ]
  },
  {
   "cell_type": "markdown",
   "id": "6e415262",
   "metadata": {},
   "source": [
    "**Observation** Applying Ridge Regression improves RMSE beyond Lasso Regression while maintaining the 95% confidence interval."
   ]
  },
  {
   "cell_type": "markdown",
   "id": "3854c58d",
   "metadata": {},
   "source": [
    "## Ridge CV"
   ]
  },
  {
   "cell_type": "code",
   "execution_count": 20,
   "id": "4ed79c08",
   "metadata": {},
   "outputs": [
    {
     "name": "stdout",
     "output_type": "stream",
     "text": [
      "best alpha: 10.0\n",
      "score: 0.91\n",
      "Starting number of features: 84\n",
      "Ridge CV number of features: 83\n"
     ]
    }
   ],
   "source": [
    "# fit RidgeCV\n",
    "ridge_cv = RidgeCV(cv = 10).fit(X_ss, y)\n",
    "\n",
    "print(f'best alpha: {round(ridge_cv.alpha_,2)}')\n",
    "print(f'score: {round(ridge_cv.score(X_ss, y),2)}')\n",
    "\n",
    "# get ridge columns\n",
    "new_ridge = Ridge(alpha = ridge_cv.alpha_)\n",
    "new_ridge.fit(X_ss, y)\n",
    "\n",
    "final_columns_ridge = [col for col, coef in zip(X_ss.columns, new_ridge.coef_) if coef]\n",
    "print(f'Starting number of features: {X.shape[1]}')\n",
    "print(f'Ridge CV number of features: {len(final_columns_ridge)}')"
   ]
  },
  {
   "cell_type": "code",
   "execution_count": 21,
   "id": "bb8abfdf",
   "metadata": {},
   "outputs": [
    {
     "name": "stdout",
     "output_type": "stream",
     "text": [
      "\n",
      "    [min, max] = [0.89, 0.92]\n",
      "    \n",
      "    confidence interval: 0.9 ± 0.02\n",
      "    \n",
      "RMSE: 24473.0\n"
     ]
    }
   ],
   "source": [
    "# use cols in lr\n",
    "lr_ridge_cv = LinearRegression(n_jobs = -1)\n",
    "\n",
    "scores3 = cross_val_score(lr_ridge_cv, X_ss[final_columns_ridge], y,\n",
    "                         cv = 10,\n",
    "                         n_jobs = -1)\n",
    "\n",
    "RMSE_lr_ridge = mean([np.sqrt(-x) for x in cross_val_score(lr_ridge_cv, X, y,\n",
    "                                     cv = 10,\n",
    "                                     n_jobs = -1,\n",
    "                                     scoring='neg_mean_squared_error')])\n",
    "\n",
    "\n",
    "print(print_results(scores3))\n",
    "print(f'RMSE: {round(RMSE_lr_ridge,0)}')"
   ]
  },
  {
   "cell_type": "markdown",
   "id": "63c8129e",
   "metadata": {},
   "source": [
    "**Observation** Ridge CV removes 1 feature but does not show any improvement in the confidence interval or RMSE."
   ]
  },
  {
   "cell_type": "markdown",
   "id": "49cb080c",
   "metadata": {},
   "source": [
    "## Lasso CV"
   ]
  },
  {
   "cell_type": "code",
   "execution_count": 28,
   "id": "69a43ea3",
   "metadata": {},
   "outputs": [
    {
     "name": "stdout",
     "output_type": "stream",
     "text": [
      "best alpha: 257.75915171655816\n",
      "score: 0.91\n",
      "Starting number of features: 84\n",
      "Lasso CV number of features: 57\n"
     ]
    }
   ],
   "source": [
    "# fit LassoCV\n",
    "lasso_cv = LassoCV(cv = 10).fit(X_ss, y)\n",
    "\n",
    "print(f'best alpha: {lasso_cv.alpha_}')\n",
    "print(f'score: {round(lasso_cv.score(X_ss, y),2)}')\n",
    "\n",
    "\n",
    "# get lasso columns\n",
    "new_lasso = Lasso(alpha = lasso_cv.alpha_)\n",
    "new_lasso.fit(X_ss, y)\n",
    "\n",
    "final_columns_lasso = [col for col, coef in zip(X_ss.columns, new_lasso.coef_) if coef]\n",
    "print(f'Starting number of features: {X.shape[1]}')\n",
    "print(f'Lasso CV number of features: {len(final_columns_lasso)}')"
   ]
  },
  {
   "cell_type": "code",
   "execution_count": 23,
   "id": "ee3ef533",
   "metadata": {},
   "outputs": [
    {
     "name": "stdout",
     "output_type": "stream",
     "text": [
      "\n",
      "    [min, max] = [0.89, 0.92]\n",
      "    \n",
      "    confidence interval: 0.91 ± 0.02\n",
      "    \n",
      "RMSE: 24473.0\n"
     ]
    }
   ],
   "source": [
    "lr_lasso_cv = LinearRegression(n_jobs = -1)\n",
    "\n",
    "scores = cross_val_score(lr_lasso_cv, X[final_columns_lasso], y,\n",
    "                         cv = 10,\n",
    "                         n_jobs = -1)\n",
    "\n",
    "RMSE_lr_lasso = mean([np.sqrt(-x) for x in cross_val_score(lr_lasso_cv, X, y,\n",
    "                                     cv = 10,\n",
    "                                     n_jobs = -1,\n",
    "                                     scoring='neg_mean_squared_error')])\n",
    "\n",
    "\n",
    "print(print_results(scores))\n",
    "print(f'RMSE: {round(RMSE_lr_lasso,0)}')"
   ]
  },
  {
   "cell_type": "markdown",
   "id": "1b0ff12b",
   "metadata": {},
   "source": [
    "**Observation** Lasso CV removes 27 features and improves the confidence interval without improvement to RMSE"
   ]
  },
  {
   "cell_type": "code",
   "execution_count": 24,
   "id": "fb94e3ac",
   "metadata": {},
   "outputs": [
    {
     "name": "stdout",
     "output_type": "stream",
     "text": [
      "score:  0.9123909921630287\n"
     ]
    },
    {
     "data": {
      "image/png": "[encoded data removed]",
      "text/plain": [
       "<Figure size 576x576 with 1 Axes>"
      ]
     },
     "metadata": {
      "needs_background": "light"
     },
     "output_type": "display_data"
    }
   ],
   "source": [
    "#plot this\n",
    "lr_lasso_cv.fit(X[final_columns_lasso], y)\n",
    "\n",
    "predictions  =  lr_lasso_cv.predict(X[final_columns_lasso])\n",
    "score        =  lr_lasso_cv.score(X[final_columns_lasso], y)\n",
    "\n",
    "# Plot the model\n",
    "figure, ax = plt.subplots(1,1,figsize=(8,8))\n",
    "\n",
    "ax.scatter(predictions, y, alpha = 0.2, color='teal', label = 'Property Record')\n",
    "ax.set_title('Fig 6. Model Performance\\n')\n",
    "ax.set_xlabel(\"Predicted Values\")\n",
    "ax.set_ylabel(\"Actual Values\")\n",
    "add_identity(ax, color = 'r', ls='--')\n",
    "ax.legend()\n",
    "\n",
    "\n",
    "\n",
    "\n",
    "print(\"score: \", score)"
   ]
  },
  {
   "cell_type": "markdown",
   "id": "8a3c9c3a",
   "metadata": {},
   "source": [
    "**Interpretation** Model residuals are clustered on the 0 line (here noted as the 'Actual = Predicted' line). There is some flaring on the upper end of Actual Values indicating some missed signal on those types of sales."
   ]
  },
  {
   "cell_type": "code",
   "execution_count": 29,
   "id": "a339e596",
   "metadata": {},
   "outputs": [],
   "source": [
    "coef_list = pd.Series(lr_lasso_cv.coef_, index = X[final_columns_lasso].columns)"
   ]
  },
  {
   "cell_type": "code",
   "execution_count": 26,
   "id": "c47ff3d8",
   "metadata": {},
   "outputs": [
    {
     "data": {
      "text/plain": [
       "neighborhood_group_3     33341.846428\n",
       "is_land_countour_hls     17657.621250\n",
       "bldg_type_1Fam           16531.605990\n",
       "is_functional            16126.243062\n",
       "ms_zoning_FV             15864.027626\n",
       "sale_type_New            14624.713978\n",
       "overall_qual             11391.681745\n",
       "garage_new_2006           8895.899167\n",
       "bsmt_cond_is_TA_Gd_Ex     6784.072487\n",
       "is_fully_paved_drive      6729.116258\n",
       "dtype: float64"
      ]
     },
     "execution_count": 26,
     "metadata": {},
     "output_type": "execute_result"
    }
   ],
   "source": [
    "# 10 most positive values\n",
    "coef_list.sort_values(ascending=False)[:10]"
   ]
  },
  {
   "cell_type": "code",
   "execution_count": 27,
   "id": "660a8426",
   "metadata": {},
   "outputs": [
    {
     "data": {
      "text/plain": [
       "garage_finish_RFn       -4115.190755\n",
       "has_porch               -4318.327320\n",
       "has_garage              -4455.641493\n",
       "home_has_remodel        -4546.354144\n",
       "exterior_has_Plywood    -4680.261624\n",
       "bedroom_abvgr           -5092.716228\n",
       "bsmt_qual_Ex_Gd         -5373.841064\n",
       "exterior_has_HdBoard    -6188.311197\n",
       "mas_vnr_type_BrkFace    -6556.028712\n",
       "has_basement           -23216.165012\n",
       "dtype: float64"
      ]
     },
     "execution_count": 27,
     "metadata": {},
     "output_type": "execute_result"
    }
   ],
   "source": [
    "# 10 most negative values\n",
    "coef_list.sort_values(ascending=False)[-10:]"
   ]
  },
  {
   "cell_type": "markdown",
   "id": "af6e1742",
   "metadata": {},
   "source": [
    "**Note** Each of these coefficients indicate the change in `sale price` per unit change of the variable.\n",
    "\n",
    "Examples:\n",
    "  *  `has_basement` is an indicator value, so having a basement will decrease the `sale price` by \\$23,216\n",
    "  *  `bedroom_abvgr` represents the number of above grade bedrooms. For every bedroom above grade, the `sale price` decreases by /$5,092 \n",
    "  \n",
    "Variable descriptions can be found in the data dictionary of the README"
   ]
  },
  {
   "cell_type": "markdown",
   "id": "a05d42fb",
   "metadata": {},
   "source": [
    "## Conclusions"
   ]
  },
  {
   "cell_type": "markdown",
   "id": "dcbc3ee6",
   "metadata": {},
   "source": [
    "#### Model overview"
   ]
  },
  {
   "cell_type": "markdown",
   "id": "1ed55823",
   "metadata": {},
   "source": [
    "The best confidence interval was achieved using the 57 exploratory varibles identified from Lasso cross validation on a Linear Regression model.\n",
    "\n",
    "The initial model had a 95\\% confidence interval of 0.9 ± 0.02 and an RMSE of 24473 dollars.\n",
    "\n",
    "Our final model improved that confidence interval to 0.91 ± 0.02 with the same RMSE of 24473 dollars.\n",
    "\n",
    "This higher confidence interval was also the reason why the final model was picked to be the vanilla Linear Regression rather than Lasso or Ridge despite the latter two having lower RMSE values."
   ]
  },
  {
   "cell_type": "markdown",
   "id": "0e4f4644",
   "metadata": {},
   "source": [
    "#### Results"
   ]
  },
  {
   "cell_type": "markdown",
   "id": "a7c56627",
   "metadata": {},
   "source": [
    "In answer to the problem statement, in absence of complete data available, the three most positively and negatively affecting variables (in context with their magnitude of units) can be determined:\n",
    "\n",
    "Three most positively impacting variables:\n",
    "  *  Membership in Neighborhood Grouping 3\n",
    "    *  a generated collection of neighborhoods that had a mean sale price one standard deviation above the overal sale price mean.\n",
    "    *  membership here adds \\$33k in expected sale price holding all else constant\n",
    "  *  Above Grade Living Area (Square Footage):\n",
    "    *  every 500 sqft adds \\$25k in expected sale price holding all else constant\n",
    "  *  Location in 'Floating Village Residential' zone\n",
    "    *  houses sold in this zone see a \\$15k increase in expected sale price holding all else constant\n",
    "    *  for context, the second highest-scoring zone is 'Residential Low Density' at \\$4k\n",
    "    \n",
    "Three most negatively impacting variables:\n",
    "  *  Presence of a basement\n",
    "    *  houses with a basement saw a \\$23K decrease in expected sale price holding all else constant\n",
    "  *  Home Age\n",
    "    *  each year before 2010 that a home was built decreases the expected sale price \\$200 holding all else constant\n",
    "    *  this translates to a \\$20K difference for a home over 100 years old\n",
    "  *  Home Remodels\n",
    "    *  houses that were remodeled saw a \\$3.6K decrease in expected sale price holding all else constant"
   ]
  },
  {
   "cell_type": "markdown",
   "id": "1661f59b",
   "metadata": {},
   "source": [
    "#### Downfalls"
   ]
  },
  {
   "cell_type": "markdown",
   "id": "db31a31a",
   "metadata": {},
   "source": [
    "Some downfalls with the current model are with its handling of higher priced homes. A way to limit this exposure would be to focus portfolios on houses in the expected range of \\\\$100,000 to \\$400,000, where our residuals are very close to the true line.\n",
    "\n",
    "Future analysis into why these higher prices are less accurately predicted is needed.\n",
    "\n",
    "Another model improvement identified is through log transformation of the predictor variable `sale price`. This could result in a better confidence interval but was not explored due to the difficulty in explaining coefficients to the stakeholders."
   ]
  }
 ],
 "metadata": {
  "kernelspec": {
   "display_name": "Python 3 (ipykernel)",
   "language": "python",
   "name": "python3"
  },
  "language_info": {
   "codemirror_mode": {
    "name": "ipython",
    "version": 3
   },
   "file_extension": ".py",
   "mimetype": "text/x-python",
   "name": "python",
   "nbconvert_exporter": "python",
   "pygments_lexer": "ipython3",
   "version": "3.9.7"
  }
 },
 "nbformat": 4,
 "nbformat_minor": 5
}
