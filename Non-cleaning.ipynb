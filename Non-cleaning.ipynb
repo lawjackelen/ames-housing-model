{
 "cells": [
  {
   "cell_type": "markdown",
   "id": "6b651f77",
   "metadata": {},
   "source": [
    "# Future Ideas"
   ]
  },
  {
   "cell_type": "markdown",
   "id": "919a659a",
   "metadata": {},
   "source": [
    "future idea: nominals / ordinals that are not represented fully in the dataset could be dropped"
   ]
  },
  {
   "cell_type": "code",
   "execution_count": null,
   "id": "aafd65c5",
   "metadata": {},
   "outputs": [],
   "source": [
    "# https://stackoverflow.com/questions/62666417/python-check-if-an-integer-is-all-the-same-digit\n",
    "def find_nines(in_lst):\n",
    "    # make all elements str\n",
    "    new_lst = [str(i) for i in in_lst]\n",
    "    \n",
    "    # make each element a set, check its length to see if they are all the same\n",
    "    # also, check to see if the set is exactly '9'\n",
    "    new_lst = [(len(set(i)) == 1) & (set(i) == {'9'}) for i in new_lst]\n",
    "    \n",
    "    return new_lst"
   ]
  },
  {
   "cell_type": "code",
   "execution_count": null,
   "id": "5cceec75",
   "metadata": {},
   "outputs": [],
   "source": [
    "find_nines([1,11,22,33,454,99999])"
   ]
  },
  {
   "cell_type": "markdown",
   "id": "b9f7c04e",
   "metadata": {},
   "source": [
    "# Kaggle Submission Instructions"
   ]
  },
  {
   "cell_type": "code",
   "execution_count": null,
   "id": "4d80dbf9",
   "metadata": {},
   "outputs": [],
   "source": [
    "# # import\n",
    "# test = pd.read_csv('datasets/test.csv')\n",
    "\n",
    "# # pythonize columns\n",
    "# test.columns = [x.lower().replace(' ','_').replace('/','_') for x in test.columns]\n"
   ]
  },
  {
   "cell_type": "code",
   "execution_count": null,
   "id": "3be81acf",
   "metadata": {},
   "outputs": [],
   "source": [
    "# test['garage_area_ex'] = lr1.coef_[0]*test.garage_area\n",
    "# test['gr_liv_area_ex'] = lr1.coef_[1]*test.gr_liv_area\n",
    "# test['saleprice_ex'] = test.garage_area_ex + test.gr_liv_area_ex + lr1.intercept_"
   ]
  },
  {
   "cell_type": "markdown",
   "id": "8464361d",
   "metadata": {},
   "source": [
    "for submissions you want two cols, one is ids (PID) and the other is predicted sale price\n",
    "  *  `Id` and `SalePrice`\n",
    "  \n",
    "kaggle will expect 878 total submissions!"
   ]
  },
  {
   "cell_type": "code",
   "execution_count": null,
   "id": "b7b8b105",
   "metadata": {},
   "outputs": [],
   "source": [
    "# submission = pd.DataFrame()\n",
    "# submission['Id'] = test['pid']\n",
    "# submission['SalePrice'] = test['saleprice_ex']"
   ]
  },
  {
   "cell_type": "code",
   "execution_count": null,
   "id": "fcdfe4a3",
   "metadata": {},
   "outputs": [],
   "source": [
    "# submission.head()"
   ]
  },
  {
   "cell_type": "code",
   "execution_count": null,
   "id": "4df244fd",
   "metadata": {},
   "outputs": [],
   "source": [
    "# submission.shape"
   ]
  },
  {
   "cell_type": "code",
   "execution_count": null,
   "id": "83c50350",
   "metadata": {},
   "outputs": [],
   "source": [
    "# submission.to_csv('datasets/dummy_submission.csv', index = False)"
   ]
  },
  {
   "cell_type": "code",
   "execution_count": null,
   "id": "e7de18ee",
   "metadata": {},
   "outputs": [],
   "source": [
    "# sub_test = pd.read_csv('datasets/dummy_submission.csv')"
   ]
  },
  {
   "cell_type": "code",
   "execution_count": null,
   "id": "95771f39",
   "metadata": {},
   "outputs": [],
   "source": [
    "# sub_test.head()"
   ]
  },
  {
   "cell_type": "code",
   "execution_count": null,
   "id": "562b97e9",
   "metadata": {},
   "outputs": [],
   "source": [
    "# Future Ideas\n",
    "\n",
    "future idea: nominals / ordinals that are not represented fully in the dataset could be dropped\n",
    "\n",
    "# https://stackoverflow.com/questions/62666417/python-check-if-an-integer-is-all-the-same-digit\n",
    "def find_nines(in_lst):\n",
    "    # make all elements str\n",
    "    new_lst = [str(i) for i in in_lst]\n",
    "    \n",
    "    # make each element a set, check its length to see if they are all the same\n",
    "    # also, check to see if the set is exactly '9'\n",
    "    new_lst = [(len(set(i)) == 1) & (set(i) == {'9'}) for i in new_lst]\n",
    "    \n",
    "    return new_lst\n",
    "\n",
    "find_nines([1,11,22,33,454,99999])\n",
    "\n",
    "# Kaggle Submission Instructions\n",
    "\n",
    "# # import\n",
    "# test = pd.read_csv('datasets/test.csv')\n",
    "\n",
    "# # pythonize columns\n",
    "# test.columns = [x.lower().replace(' ','_').replace('/','_') for x in test.columns]\n",
    "\n",
    "\n",
    "# test['garage_area_ex'] = lr1.coef_[0]*test.garage_area\n",
    "# test['gr_liv_area_ex'] = lr1.coef_[1]*test.gr_liv_area\n",
    "# test['saleprice_ex'] = test.garage_area_ex + test.gr_liv_area_ex + lr1.intercept_\n",
    "\n",
    "for submissions you want two cols, one is ids (PID) and the other is predicted sale price\n",
    "  *  `Id` and `SalePrice`\n",
    "  \n",
    "kaggle will expect 878 total submissions!\n",
    "\n",
    "# submission = pd.DataFrame()\n",
    "# submission['Id'] = test['pid']\n",
    "# submission['SalePrice'] = test['saleprice_ex']\n",
    "\n",
    "# submission.head()\n",
    "\n",
    "# submission.shape\n",
    "\n",
    "# submission.to_csv('datasets/dummy_submission.csv', index = False)\n",
    "\n",
    "# sub_test = pd.read_csv('datasets/dummy_submission.csv')\n",
    "\n",
    "# sub_test.head()"
   ]
  }
 ],
 "metadata": {
  "kernelspec": {
   "display_name": "Python 3 (ipykernel)",
   "language": "python",
   "name": "python3"
  },
  "language_info": {
   "codemirror_mode": {
    "name": "ipython",
    "version": 3
   },
   "file_extension": ".py",
   "mimetype": "text/x-python",
   "name": "python",
   "nbconvert_exporter": "python",
   "pygments_lexer": "ipython3",
   "version": "3.9.7"
  }
 },
 "nbformat": 4,
 "nbformat_minor": 5
}
